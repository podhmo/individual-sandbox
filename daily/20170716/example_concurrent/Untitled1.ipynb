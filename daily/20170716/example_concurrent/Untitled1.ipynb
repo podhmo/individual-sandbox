{
 "cells": [
  {
   "cell_type": "code",
   "execution_count": 2,
   "metadata": {},
   "outputs": [
    {
     "name": "stderr",
     "output_type": "stream",
     "text": [
      "[DEBUG/MainProcess] created semlock with handle 59\n",
      "[DEBUG/MainProcess] created semlock with handle 59\n",
      "[DEBUG/MainProcess] created semlock with handle 54\n",
      "[DEBUG/MainProcess] created semlock with handle 54\n",
      "[DEBUG/MainProcess] created semlock with handle 60\n",
      "[DEBUG/MainProcess] created semlock with handle 60\n",
      "[DEBUG/MainProcess] Queue._after_fork()\n",
      "[DEBUG/MainProcess] Queue._after_fork()\n",
      "[DEBUG/MainProcess] created semlock with handle 63\n",
      "[DEBUG/MainProcess] created semlock with handle 63\n",
      "[DEBUG/MainProcess] created semlock with handle 64\n",
      "[DEBUG/MainProcess] created semlock with handle 64\n"
     ]
    },
    {
     "name": "stdout",
     "output_type": "stream",
     "text": [
      "----------------------------------------\n"
     ]
    },
    {
     "name": "stderr",
     "output_type": "stream",
     "text": [
      "[DEBUG/Process-5] Queue._after_fork()\n",
      "[DEBUG/Process-6] Queue._after_fork()\n",
      "[DEBUG/Process-5] Queue._after_fork()\n",
      "[DEBUG/Process-7] Queue._after_fork()\n",
      "[DEBUG/Process-6] Queue._after_fork()\n",
      "[DEBUG/Process-7] Queue._after_fork()\n",
      "[INFO/Process-5] child process calling self.run()\n",
      "[DEBUG/MainProcess] Queue._start_thread()\n",
      "[INFO/Process-7] child process calling self.run()\n",
      "[INFO/Process-6] child process calling self.run()\n",
      "[DEBUG/MainProcess] Queue._start_thread()\n",
      "[DEBUG/Process-8] Queue._after_fork()\n",
      "[DEBUG/MainProcess] doing self._thread.start()\n",
      "[INFO/Process-5] child process calling self.run()\n",
      "[INFO/Process-7] child process calling self.run()\n",
      "[INFO/Process-6] child process calling self.run()\n",
      "[DEBUG/Process-8] Queue._after_fork()\n",
      "[DEBUG/MainProcess] doing self._thread.start()\n",
      "[INFO/Process-8] child process calling self.run()\n",
      "[DEBUG/MainProcess] starting thread to feed data to pipe\n",
      "[DEBUG/MainProcess] starting thread to feed data to pipe[DEBUG/MainProcess] ... done self._thread.start()\n",
      "\n",
      "[INFO/Process-8] child process calling self.run()\n",
      "[DEBUG/MainProcess] ... done self._thread.start()\n"
     ]
    },
    {
     "name": "stdout",
     "output_type": "stream",
     "text": [
      "start 0 53666\n",
      "start 2 53667\n",
      "start 1 53668\n",
      "start 3 53669\n",
      ">>>>>>>>>>>>>>>>>>>>>>>>>>>>>>>>>>>>>>>>\n",
      "start 4 53666\n",
      "start 5 53667\n",
      "start 6 53668\n",
      "start 7 53669\n",
      "start 8 53667\n",
      "start 9 53666\n"
     ]
    },
    {
     "name": "stderr",
     "output_type": "stream",
     "text": [
      "[DEBUG/MainProcess] telling queue thread to quit\n",
      "[INFO/Process-5] process shutting down\n",
      "[INFO/Process-7] process shutting down\n",
      "[DEBUG/MainProcess] telling queue thread to quit\n",
      "[INFO/Process-8] process shutting down\n",
      "[DEBUG/MainProcess] feeder thread got sentinel -- exiting\n",
      "[INFO/Process-5] process shutting down\n",
      "[INFO/Process-6] process shutting down\n",
      "[DEBUG/MainProcess] feeder thread got sentinel -- exiting\n",
      "[INFO/Process-7] process shutting down\n",
      "[DEBUG/Process-7] running all \"atexit\" finalizers with priority >= 0\n",
      "[INFO/Process-8] process shutting down\n",
      "[DEBUG/Process-7] running all \"atexit\" finalizers with priority >= 0\n",
      "[DEBUG/Process-8] running all \"atexit\" finalizers with priority >= 0\n",
      "[DEBUG/Process-8] running all \"atexit\" finalizers with priority >= 0\n",
      "[DEBUG/Process-5] running all \"atexit\" finalizers with priority >= 0\n",
      "[DEBUG/Process-8] running the remaining \"atexit\" finalizers\n",
      "[INFO/Process-6] process shutting down\n",
      "[DEBUG/Process-7] running the remaining \"atexit\" finalizers\n",
      "[DEBUG/Process-5] running all \"atexit\" finalizers with priority >= 0\n",
      "[DEBUG/Process-5] running the remaining \"atexit\" finalizers\n",
      "[DEBUG/Process-7] running the remaining \"atexit\" finalizers\n",
      "[DEBUG/Process-8] running the remaining \"atexit\" finalizers\n",
      "[INFO/Process-8] process exiting with exitcode 0\n",
      "[DEBUG/Process-6] running all \"atexit\" finalizers with priority >= 0\n",
      "[DEBUG/Process-5] running the remaining \"atexit\" finalizers\n",
      "[INFO/Process-8] process exiting with exitcode 0\n",
      "[INFO/Process-7] process exiting with exitcode 0\n",
      "[INFO/Process-5] process exiting with exitcode 0\n",
      "[DEBUG/Process-6] running all \"atexit\" finalizers with priority >= 0\n",
      "[INFO/Process-5] process exiting with exitcode 0\n",
      "[INFO/Process-7] process exiting with exitcode 0\n",
      "[DEBUG/Process-6] running the remaining \"atexit\" finalizers\n",
      "[DEBUG/Process-6] running the remaining \"atexit\" finalizers\n",
      "[INFO/Process-6] process exiting with exitcode 0\n",
      "[INFO/Process-6] process exiting with exitcode 0\n"
     ]
    },
    {
     "name": "stdout",
     "output_type": "stream",
     "text": [
      "########################################\n",
      "None\n",
      "None\n",
      "None\n",
      "None\n",
      "None\n",
      "None\n",
      "None\n",
      "None\n",
      "None\n",
      "None\n",
      "----------------------------------------\n"
     ]
    }
   ],
   "source": [
    "import concurrent.futures as f\n",
    "import logging\n",
    "import multiprocessing as m\n",
    "m.log_to_stderr(logging.DEBUG)\n",
    "logging.basicConfig(level=logging.DEBUG)\n",
    "\n",
    "\n",
    "def fn(n):\n",
    "    import os\n",
    "    import time\n",
    "    pid = os.getpid()\n",
    "    print(\"start\", n, pid)\n",
    "    time.sleep(40)\n",
    "    # ここに来ることは無い\n",
    "    return None\n",
    "\n",
    "\n",
    "print(\"----------------------------------------\")\n",
    "try:\n",
    "    with f.ProcessPoolExecutor() as e:\n",
    "        futs = []\n",
    "        r = []\n",
    "        for i in range(10):\n",
    "            futs.append(e.submit(fn, i))\n",
    "        print(\">>>>>>>>>>>>>>>>>>>>>>>>>>>>>>>>>>>>>>>>\")\n",
    "        for fut in f.as_completed(futs):\n",
    "            r.append(fut)\n",
    "except Exception as e:\n",
    "    print(type(e), repr(e), e)\n",
    "print(\"########################################\")\n",
    "for fut in r:\n",
    "    print(fut.result())\n",
    "print(\"----------------------------------------\")\n"
   ]
  }
 ],
 "metadata": {
  "kernelspec": {
   "display_name": "Python 3",
   "language": "python",
   "name": "python3"
  },
  "language_info": {
   "codemirror_mode": {
    "name": "ipython",
    "version": 3
   },
   "file_extension": ".py",
   "mimetype": "text/x-python",
   "name": "python",
   "nbconvert_exporter": "python",
   "pygments_lexer": "ipython3",
   "version": "3.5.2"
  }
 },
 "nbformat": 4,
 "nbformat_minor": 2
}

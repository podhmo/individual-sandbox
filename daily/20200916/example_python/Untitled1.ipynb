{
 "cells": [
  {
   "cell_type": "code",
   "execution_count": 25,
   "metadata": {},
   "outputs": [],
   "source": [
    "import sympy"
   ]
  },
  {
   "cell_type": "code",
   "execution_count": 26,
   "metadata": {},
   "outputs": [],
   "source": [
    "b0, b1 = sympy.symbols(\"β0 β1\")\n",
    "N = sympy.symbols(\"N\")\n",
    "x, y = sympy.symbols(\"x y\")\n",
    "i = sympy.symbols(\"i\")"
   ]
  },
  {
   "cell_type": "code",
   "execution_count": 27,
   "metadata": {},
   "outputs": [
    {
     "data": {
      "text/latex": [
       "$\\displaystyle \\left|{β0 + β1 {x}_{i} - {y}_{i}}\\right|$"
      ],
      "text/plain": [
       "Abs(β0 + β1*x[i] - y[i])"
      ]
     },
     "execution_count": 27,
     "metadata": {},
     "output_type": "execute_result"
    }
   ],
   "source": [
    "sympy.Abs(sympy.Indexed(y,i) - b0 - b1 * sympy.Indexed(x,i))"
   ]
  },
  {
   "cell_type": "code",
   "execution_count": 28,
   "metadata": {},
   "outputs": [
    {
     "data": {
      "text/latex": [
       "$\\displaystyle \\sum_{i=1}^{N} \\left(- β0 - β1 {x}_{i} + {y}_{i}\\right)^{2}$"
      ],
      "text/plain": [
       "Sum((-β0 - β1*x[i] + y[i])**2, (i, 1, N))"
      ]
     },
     "execution_count": 28,
     "metadata": {},
     "output_type": "execute_result"
    }
   ],
   "source": [
    "L = sympy.Sum((sympy.Indexed(y,i) - b0 - b1 * sympy.Indexed(x, i)) ** 2, (i, 1, N))\n",
    "L"
   ]
  },
  {
   "cell_type": "code",
   "execution_count": 43,
   "metadata": {},
   "outputs": [
    {
     "data": {
      "text/latex": [
       "$\\displaystyle \\sum_{i=1}^{N} β0^{2} + \\sum_{i=1}^{N} - 2 β0 {y}_{i} + \\sum_{i=1}^{N} β1^{2} {x}_{i}^{2} + \\sum_{i=1}^{N} 2 β0 β1 {x}_{i} + \\sum_{i=1}^{N} - 2 β1 {x}_{i} {y}_{i} + \\sum_{i=1}^{N} {y}_{i}^{2}$"
      ],
      "text/plain": [
       "Sum(β0**2, (i, 1, N)) + Sum(-2*β0*y[i], (i, 1, N)) + Sum(β1**2*x[i]**2, (i, 1, N)) + Sum(2*β0*β1*x[i], (i, 1, N)) + Sum(-2*β1*x[i]*y[i], (i, 1, N)) + Sum(y[i]**2, (i, 1, N))"
      ]
     },
     "execution_count": 43,
     "metadata": {},
     "output_type": "execute_result"
    }
   ],
   "source": [
    "sympy.expand(L)"
   ]
  },
  {
   "cell_type": "code",
   "execution_count": 41,
   "metadata": {},
   "outputs": [
    {
     "data": {
      "text/latex": [
       "$\\displaystyle 2 \\sum_{i=1}^{N} \\left(β0 + β1 {x}_{i} - {y}_{i}\\right) = 0$"
      ],
      "text/plain": [
       "Eq(2*Sum(β0 + β1*x[i] - y[i], (i, 1, N)), 0)"
      ]
     },
     "execution_count": 41,
     "metadata": {},
     "output_type": "execute_result"
    }
   ],
   "source": [
    "eq0 = sympy.Eq(sympy.simplify(sympy.diff(L, b0)), 0)\n",
    "eq0"
   ]
  },
  {
   "cell_type": "code",
   "execution_count": 42,
   "metadata": {},
   "outputs": [
    {
     "data": {
      "text/latex": [
       "$\\displaystyle 2 \\sum_{i=1}^{N} \\left(β0 + β1 {x}_{i} - {y}_{i}\\right) {x}_{i} = 0$"
      ],
      "text/plain": [
       "Eq(2*Sum((β0 + β1*x[i] - y[i])*x[i], (i, 1, N)), 0)"
      ]
     },
     "execution_count": 42,
     "metadata": {},
     "output_type": "execute_result"
    }
   ],
   "source": [
    "eq1 = sympy.Eq(sympy.simplify(sympy.diff(L, b1)), 0)\n",
    "eq1"
   ]
  },
  {
   "cell_type": "code",
   "execution_count": 46,
   "metadata": {},
   "outputs": [
    {
     "data": {
      "text/plain": [
       "[]"
      ]
     },
     "execution_count": 46,
     "metadata": {},
     "output_type": "execute_result"
    }
   ],
   "source": [
    "sympy.solve([eq0,eq1],[b0,b1])"
   ]
  },
  {
   "cell_type": "code",
   "execution_count": 57,
   "metadata": {},
   "outputs": [
    {
     "data": {
      "text/plain": [
       "[]"
      ]
     },
     "execution_count": 57,
     "metadata": {},
     "output_type": "execute_result"
    }
   ],
   "source": [
    "# hmm \n",
    "import sympy as sp\n",
    "i = sp.Idx('i')\n",
    "Yi = sp.IndexedBase('Y')\n",
    "eqn = sp.Eq(sp.Sum(Yi, (i, 1, 5)), 0)\n",
    "sp.solve(eqn, Yi[1])"
   ]
  },
  {
   "cell_type": "code",
   "execution_count": 51,
   "metadata": {},
   "outputs": [
    {
     "data": {
      "text/latex": [
       "$\\displaystyle \\frac{\\partial}{\\partial β1} \\sum_{i=1}^{N} \\left(- β0 - β1 {x}_{i} + {y}_{i}\\right)^{2} = 0$"
      ],
      "text/plain": [
       "Eq(Derivative(Sum((-β0 - β1*x[i] + y[i])**2, (i, 1, N)), β1), 0)"
      ]
     },
     "execution_count": 51,
     "metadata": {},
     "output_type": "execute_result"
    }
   ],
   "source": [
    "eq0 = sympy.Eq(sympy.Derivative(L, b0), 0)\n",
    "eq1 = sympy.Eq(sympy.Derivative(L, b1), 0)\n",
    "# sympy.solve([eq0,eq1], [b0, b1])\n",
    "eq0\n",
    "eq1"
   ]
  },
  {
   "cell_type": "code",
   "execution_count": 53,
   "metadata": {},
   "outputs": [
    {
     "data": {
      "text/plain": [
       "[]"
      ]
     },
     "execution_count": 53,
     "metadata": {},
     "output_type": "execute_result"
    }
   ],
   "source": [
    "sympy.solve([sympy.diff(L,b0),sympy.diff(L,b1)],[b0,b1])"
   ]
  }
 ],
 "metadata": {
  "kernelspec": {
   "display_name": "Python 3",
   "language": "python",
   "name": "python3"
  },
  "language_info": {
   "codemirror_mode": {
    "name": "ipython",
    "version": 3
   },
   "file_extension": ".py",
   "mimetype": "text/x-python",
   "name": "python",
   "nbconvert_exporter": "python",
   "pygments_lexer": "ipython3",
   "version": "3.7.8"
  }
 },
 "nbformat": 4,
 "nbformat_minor": 4
}

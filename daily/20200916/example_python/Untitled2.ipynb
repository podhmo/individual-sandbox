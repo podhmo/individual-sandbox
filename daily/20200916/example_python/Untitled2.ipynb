{
 "cells": [
  {
   "cell_type": "code",
   "execution_count": 1,
   "metadata": {},
   "outputs": [],
   "source": [
    "import sympy"
   ]
  },
  {
   "cell_type": "code",
   "execution_count": 2,
   "metadata": {},
   "outputs": [
    {
     "data": {
      "text/plain": [
       "(a11, a12, a21, a22, b11, b12, b21, b22)"
      ]
     },
     "execution_count": 2,
     "metadata": {},
     "output_type": "execute_result"
    }
   ],
   "source": [
    "sympy.var('m11, m12, n11, n21')\n",
    "sympy.var('a11, a12, a21, a22, b11, b12, b21, b22') \n"
   ]
  },
  {
   "cell_type": "code",
   "execution_count": 3,
   "metadata": {},
   "outputs": [
    {
     "data": {
      "text/latex": [
       "$\\displaystyle \\left[\\begin{matrix}m_{11} & m_{12}\\end{matrix}\\right]$"
      ],
      "text/plain": [
       "Matrix([[m11, m12]])"
      ]
     },
     "execution_count": 3,
     "metadata": {},
     "output_type": "execute_result"
    }
   ],
   "source": [
    "M = sympy.Matrix([\n",
    "[m11,m12]\n",
    "])\n",
    "M"
   ]
  },
  {
   "cell_type": "code",
   "execution_count": 4,
   "metadata": {},
   "outputs": [
    {
     "data": {
      "text/latex": [
       "$\\displaystyle \\left[\\begin{matrix}n_{11}\\\\n_{21}\\end{matrix}\\right]$"
      ],
      "text/plain": [
       "Matrix([\n",
       "[n11],\n",
       "[n21]])"
      ]
     },
     "execution_count": 4,
     "metadata": {},
     "output_type": "execute_result"
    }
   ],
   "source": [
    "N = sympy.Matrix([\n",
    "[n11],\n",
    "[n21]\n",
    "])\n",
    "N"
   ]
  },
  {
   "cell_type": "code",
   "execution_count": 6,
   "metadata": {},
   "outputs": [
    {
     "data": {
      "text/latex": [
       "$\\displaystyle \\left[\\begin{matrix}a_{11} & a_{12}\\\\a_{21} & a_{22}\\end{matrix}\\right]$"
      ],
      "text/plain": [
       "Matrix([\n",
       "[a11, a12],\n",
       "[a21, a22]])"
      ]
     },
     "execution_count": 6,
     "metadata": {},
     "output_type": "execute_result"
    }
   ],
   "source": [
    "A = sympy.Matrix([\n",
    "[a11,a12],\n",
    "[a21,a22]\n",
    "])\n",
    "A"
   ]
  },
  {
   "cell_type": "code",
   "execution_count": 10,
   "metadata": {},
   "outputs": [
    {
     "data": {
      "text/latex": [
       "$\\displaystyle \\left[\\begin{matrix}b_{11} & b_{12}\\\\b_{21} & b_{22}\\end{matrix}\\right]$"
      ],
      "text/plain": [
       "Matrix([\n",
       "[b11, b12],\n",
       "[b21, b22]])"
      ]
     },
     "execution_count": 10,
     "metadata": {},
     "output_type": "execute_result"
    }
   ],
   "source": [
    "B = sympy.Matrix([\n",
    "[b11,b12],\n",
    "[b21,b22]\n",
    "])\n",
    "B"
   ]
  },
  {
   "cell_type": "code",
   "execution_count": 11,
   "metadata": {},
   "outputs": [
    {
     "data": {
      "text/latex": [
       "$\\displaystyle \\left[\\begin{matrix}a_{11} b_{11} + a_{12} b_{21} & a_{11} b_{12} + a_{12} b_{22}\\\\a_{21} b_{11} + a_{22} b_{21} & a_{21} b_{12} + a_{22} b_{22}\\end{matrix}\\right]$"
      ],
      "text/plain": [
       "Matrix([\n",
       "[a11*b11 + a12*b21, a11*b12 + a12*b22],\n",
       "[a21*b11 + a22*b21, a21*b12 + a22*b22]])"
      ]
     },
     "execution_count": 11,
     "metadata": {},
     "output_type": "execute_result"
    }
   ],
   "source": [
    "A*B"
   ]
  },
  {
   "cell_type": "code",
   "execution_count": 12,
   "metadata": {},
   "outputs": [
    {
     "data": {
      "text/latex": [
       "$\\displaystyle \\left[\\begin{matrix}a_{11} m_{11} + a_{21} m_{12} & a_{12} m_{11} + a_{22} m_{12}\\end{matrix}\\right]$"
      ],
      "text/plain": [
       "Matrix([[a11*m11 + a21*m12, a12*m11 + a22*m12]])"
      ]
     },
     "execution_count": 12,
     "metadata": {},
     "output_type": "execute_result"
    }
   ],
   "source": [
    "M*A\n"
   ]
  },
  {
   "cell_type": "code",
   "execution_count": 13,
   "metadata": {},
   "outputs": [
    {
     "data": {
      "text/latex": [
       "$\\displaystyle \\left[\\begin{matrix}b_{11} n_{11} + b_{12} n_{21}\\\\b_{21} n_{11} + b_{22} n_{21}\\end{matrix}\\right]$"
      ],
      "text/plain": [
       "Matrix([\n",
       "[b11*n11 + b12*n21],\n",
       "[b21*n11 + b22*n21]])"
      ]
     },
     "execution_count": 13,
     "metadata": {},
     "output_type": "execute_result"
    }
   ],
   "source": [
    "B*N"
   ]
  },
  {
   "cell_type": "code",
   "execution_count": 14,
   "metadata": {},
   "outputs": [
    {
     "data": {
      "text/latex": [
       "$\\displaystyle \\left[\\begin{matrix}n_{11} \\left(b_{11} m_{11} + b_{21} m_{12}\\right) + n_{21} \\left(b_{12} m_{11} + b_{22} m_{12}\\right)\\end{matrix}\\right]$"
      ],
      "text/plain": [
       "Matrix([[n11*(b11*m11 + b21*m12) + n21*(b12*m11 + b22*m12)]])"
      ]
     },
     "execution_count": 14,
     "metadata": {},
     "output_type": "execute_result"
    }
   ],
   "source": [
    "M*B*N\n"
   ]
  },
  {
   "cell_type": "code",
   "execution_count": 17,
   "metadata": {},
   "outputs": [
    {
     "data": {
      "text/latex": [
       "$\\displaystyle \\left[\\begin{matrix}a_{11}^{2} + a_{12} a_{21} & a_{11} a_{12} + a_{12} a_{22}\\\\a_{11} a_{21} + a_{21} a_{22} & a_{12} a_{21} + a_{22}^{2}\\end{matrix}\\right]$"
      ],
      "text/plain": [
       "Matrix([\n",
       "[ a11**2 + a12*a21, a11*a12 + a12*a22],\n",
       "[a11*a21 + a21*a22,  a12*a21 + a22**2]])"
      ]
     },
     "execution_count": 17,
     "metadata": {},
     "output_type": "execute_result"
    }
   ],
   "source": [
    "# 冪乗\n",
    "A**2"
   ]
  },
  {
   "cell_type": "code",
   "execution_count": 18,
   "metadata": {},
   "outputs": [
    {
     "data": {
      "text/latex": [
       "$\\displaystyle \\left[\\begin{matrix}a a_{11} + b b_{11} & a a_{12} + b b_{12}\\\\a a_{21} + b b_{21} & a a_{22} + b b_{22}\\end{matrix}\\right]$"
      ],
      "text/plain": [
       "Matrix([\n",
       "[a*a11 + b*b11, a*a12 + b*b12],\n",
       "[a*a21 + b*b21, a*a22 + b*b22]])"
      ]
     },
     "execution_count": 18,
     "metadata": {},
     "output_type": "execute_result"
    }
   ],
   "source": [
    "# 線形結合\n",
    "a, b = sympy.symbols(\"a, b\")\n",
    "a*A+b*B"
   ]
  },
  {
   "cell_type": "code",
   "execution_count": 19,
   "metadata": {},
   "outputs": [
    {
     "data": {
      "text/latex": [
       "$\\displaystyle \\left[\\begin{matrix}\\frac{a_{22}}{a_{11} a_{22} - a_{12} a_{21}} & - \\frac{a_{12}}{a_{11} a_{22} - a_{12} a_{21}}\\\\- \\frac{a_{21}}{a_{11} a_{22} - a_{12} a_{21}} & \\frac{a_{11}}{a_{11} a_{22} - a_{12} a_{21}}\\end{matrix}\\right]$"
      ],
      "text/plain": [
       "Matrix([\n",
       "[ a22/(a11*a22 - a12*a21), -a12/(a11*a22 - a12*a21)],\n",
       "[-a21/(a11*a22 - a12*a21),  a11/(a11*a22 - a12*a21)]])"
      ]
     },
     "execution_count": 19,
     "metadata": {},
     "output_type": "execute_result"
    }
   ],
   "source": [
    "# 逆行列\n",
    "A.inv()"
   ]
  },
  {
   "cell_type": "code",
   "execution_count": 20,
   "metadata": {},
   "outputs": [
    {
     "data": {
      "text/latex": [
       "$\\displaystyle \\left[\\begin{matrix}\\frac{a_{22}}{a_{11} a_{22} - a_{12} a_{21}} & - \\frac{a_{12}}{a_{11} a_{22} - a_{12} a_{21}}\\\\- \\frac{a_{21}}{a_{11} a_{22} - a_{12} a_{21}} & \\frac{a_{11}}{a_{11} a_{22} - a_{12} a_{21}}\\end{matrix}\\right]$"
      ],
      "text/plain": [
       "Matrix([\n",
       "[ a22/(a11*a22 - a12*a21), -a12/(a11*a22 - a12*a21)],\n",
       "[-a21/(a11*a22 - a12*a21),  a11/(a11*a22 - a12*a21)]])"
      ]
     },
     "execution_count": 20,
     "metadata": {},
     "output_type": "execute_result"
    }
   ],
   "source": [
    "A**(-1)"
   ]
  },
  {
   "cell_type": "code",
   "execution_count": 21,
   "metadata": {},
   "outputs": [
    {
     "data": {
      "text/latex": [
       "$\\displaystyle \\left[\\begin{matrix}a & b & c\\\\d & e & f\\\\g & h & i\\end{matrix}\\right]$"
      ],
      "text/plain": [
       "Matrix([\n",
       "[a, b, c],\n",
       "[d, e, f],\n",
       "[g, h, i]])"
      ]
     },
     "execution_count": 21,
     "metadata": {},
     "output_type": "execute_result"
    }
   ],
   "source": [
    "## 連立方程式\n",
    "a,b,c,d,e,f,g,h,i = sympy.symbols('a, b, c, d, e, f, g, h, i') \n",
    "A3 = sympy.Matrix([\n",
    "[a, b, c],\n",
    "[d, e, f],\n",
    "[g, h, i]\n",
    "])\n",
    "A3"
   ]
  },
  {
   "cell_type": "code",
   "execution_count": 45,
   "metadata": {},
   "outputs": [
    {
     "data": {
      "text/latex": [
       "$\\displaystyle \\left[\\begin{matrix}\\frac{j \\left(e i - f h\\right) - k \\left(b i - c h\\right) + l \\left(b f - c e\\right)}{a e i - a f h - b d i + b f g + c d h - c e g}\\\\\\frac{- j \\left(d i - f g\\right) + k \\left(a i - c g\\right) - l \\left(a f - c d\\right)}{a e i - a f h - b d i + b f g + c d h - c e g}\\\\\\frac{j \\left(d h - e g\\right) - k \\left(a h - b g\\right) + l \\left(a e - b d\\right)}{a e i - a f h - b d i + b f g + c d h - c e g}\\end{matrix}\\right]$"
      ],
      "text/plain": [
       "Matrix([\n",
       "[ (j*(e*i - f*h) - k*(b*i - c*h) + l*(b*f - c*e))/(a*e*i - a*f*h - b*d*i + b*f*g + c*d*h - c*e*g)],\n",
       "[(-j*(d*i - f*g) + k*(a*i - c*g) - l*(a*f - c*d))/(a*e*i - a*f*h - b*d*i + b*f*g + c*d*h - c*e*g)],\n",
       "[ (j*(d*h - e*g) - k*(a*h - b*g) + l*(a*e - b*d))/(a*e*i - a*f*h - b*d*i + b*f*g + c*d*h - c*e*g)]])"
      ]
     },
     "execution_count": 45,
     "metadata": {},
     "output_type": "execute_result"
    }
   ],
   "source": [
    "sympy.simplify(A3.inv() * sympy.Matrix([j,k,l]))"
   ]
  },
  {
   "cell_type": "code",
   "execution_count": 30,
   "metadata": {},
   "outputs": [
    {
     "data": {
      "text/plain": [
       "{x: (j*(e*i - f*h) - k*(b*i - c*h) + l*(b*f - c*e))/(a*e*i - a*f*h - b*d*i + b*f*g + c*d*h - c*e*g),\n",
       " y: (-j*(d*i - f*g) + k*(a*i - c*g) - l*(a*f - c*d))/(a*e*i - a*f*h - b*d*i + b*f*g + c*d*h - c*e*g),\n",
       " z: (j*(d*h - e*g) - k*(a*h - b*g) + l*(a*e - b*d))/(a*e*i - a*f*h - b*d*i + b*f*g + c*d*h - c*e*g)}"
      ]
     },
     "execution_count": 30,
     "metadata": {},
     "output_type": "execute_result"
    }
   ],
   "source": [
    "x, y, z, i, j, k, l = sympy.symbols(\"x y z i j k l\")\n",
    "eq1=sympy.Eq(a*x+b*y+c*z, j)\n",
    "eq2=sympy.Eq(d*x+e*y+f*z, k)\n",
    "eq3=sympy.Eq(g*x+h*y+i*z, l)\n",
    "sympy.solve ([eq1, eq2, eq3], [x, y, z]) "
   ]
  },
  {
   "cell_type": "code",
   "execution_count": 38,
   "metadata": {},
   "outputs": [
    {
     "data": {
      "text/latex": [
       "$\\displaystyle \\left[\\begin{matrix}j\\\\k\\\\l\\end{matrix}\\right]$"
      ],
      "text/plain": [
       "Matrix([\n",
       "[j],\n",
       "[k],\n",
       "[l]])"
      ]
     },
     "execution_count": 38,
     "metadata": {},
     "output_type": "execute_result"
    }
   ],
   "source": [
    "sympy.Matrix([j,k,l])"
   ]
  },
  {
   "cell_type": "code",
   "execution_count": 39,
   "metadata": {},
   "outputs": [
    {
     "data": {
      "text/latex": [
       "$\\displaystyle \\left[\\begin{matrix}j & k & l\\end{matrix}\\right]$"
      ],
      "text/plain": [
       "Matrix([[j, k, l]])"
      ]
     },
     "execution_count": 39,
     "metadata": {},
     "output_type": "execute_result"
    }
   ],
   "source": [
    "sympy.Matrix([j,k,l]).transpose()"
   ]
  },
  {
   "cell_type": "code",
   "execution_count": null,
   "metadata": {},
   "outputs": [],
   "source": []
  }
 ],
 "metadata": {
  "kernelspec": {
   "display_name": "Python 3",
   "language": "python",
   "name": "python3"
  },
  "language_info": {
   "codemirror_mode": {
    "name": "ipython",
    "version": 3
   },
   "file_extension": ".py",
   "mimetype": "text/x-python",
   "name": "python",
   "nbconvert_exporter": "python",
   "pygments_lexer": "ipython3",
   "version": "3.7.8"
  }
 },
 "nbformat": 4,
 "nbformat_minor": 4
}

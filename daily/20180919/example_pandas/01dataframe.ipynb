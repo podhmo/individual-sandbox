{
 "cells": [
  {
   "cell_type": "markdown",
   "metadata": {},
   "source": [
    "# [python][shosai][pandas] dataframeの表示(htmlの表示)を試す"
   ]
  },
  {
   "cell_type": "code",
   "execution_count": 1,
   "metadata": {},
   "outputs": [],
   "source": [
    "\n",
    "import numpy as np\n",
    "import pandas as pd\n",
    "%matplotlib inline\n",
    "m = np.arange(1, 10).reshape(3, 3)\n",
    "df = pd.DataFrame(m, columns=[\"a\", \"b\", \"c\"])\n",
    "df\n"
   ]
  },
  {
   "cell_type": "markdown",
   "metadata": {},
   "source": [
    "\n",
    "```console\n",
    "$ nbreversible 01dataframe.py | tee 01dataframe.ipynb\n",
    "$ jupyter-nbconvert --to markdown --execute 01dataframe.ipynb\n",
    "$ shosai hatena push 01dataframe.md\n",
    "```\n"
   ]
  },
  {
   "cell_type": "markdown",
   "metadata": {},
   "source": [
    "\n",
    "普通に、raw htmlもhatena blogは対応しているっぽい。なるほど。\n",
    "\n",
    "この時に利用したファイルの[gist](https://gist.github.com/podhmo/34895004d7bfe8263322bab908629e10)\n"
   ]
  }
 ],
 "metadata": {},
 "nbformat": 4,
 "nbformat_minor": 2
}

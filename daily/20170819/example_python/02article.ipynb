{
 "cells": [
  {
   "cell_type": "markdown",
   "metadata": {},
   "source": [
    "\n",
    "#[python]pythonでサブクラスを定義するときにオプションを渡せるようにしてみる\n",
    "\n",
    "そういえば、継承時にbase classの他にオプションを取る定義が書けるのわりと最初ビックリするけれどvalidなpythonのコード。\n",
    "\n",
    "3.6なら`__init_subclass__`のフックを使うのが楽かもしれない。\n",
    "\n",
    "たとえば、以下の様なコードを書いてみる。\n",
    "\n",
    "- 自身を継承したクラスをchildrenという変数に格納する\n",
    "- 継承時にnameというオプションを与えた時にはかわりにその名前を格納する\n"
   ]
  },
  {
   "cell_type": "markdown",
   "metadata": {},
   "source": [
    "\n",
    "## 3.6の場合\n",
    "\n",
    "3.6以降の場合\n"
   ]
  },
  {
   "cell_type": "code",
   "execution_count": 1,
   "metadata": {},
   "outputs": [
    {
     "name": "stdout",
     "output_type": "stream",
     "text": [
      "{'MaybeA', 'B'}\n"
     ]
    }
   ],
   "source": [
    "\n",
    "\n",
    "class A:\n",
    "    children = set()\n",
    "\n",
    "    def __init_subclass__(cls, name=None):\n",
    "        name = name or cls.__name__\n",
    "        cls.children.add(name)\n",
    "\n",
    "\n",
    "class B(A):\n",
    "    pass\n",
    "\n",
    "\n",
    "class C(A, name=\"MaybeA\"):\n",
    "    pass\n",
    "\n",
    "\n",
    "print(A.children)\n"
   ]
  },
  {
   "cell_type": "markdown",
   "metadata": {},
   "source": [
    "\n",
    "## 3.6以前の場合\n",
    "\n",
    "メタクラスを使って対応することもできる。ただ自分自身を格納しないようにするのがちょっとトリッキー\n"
   ]
  },
  {
   "cell_type": "code",
   "execution_count": 2,
   "metadata": {},
   "outputs": [
    {
     "name": "stdout",
     "output_type": "stream",
     "text": [
      "{'MaybeA', 'B'}\n"
     ]
    }
   ],
   "source": [
    "\n",
    "\n",
    "class AMeta(type):\n",
    "    def __new__(self, clsname, bases, attrs, name=None):\n",
    "        instance = super().__new__(self, clsname, bases, attrs)\n",
    "        if \"children\" not in instance.__dict__:\n",
    "            instance.children.add(name or clsname)\n",
    "        return instance\n",
    "\n",
    "\n",
    "class A(metaclass=AMeta):\n",
    "    children = set()\n",
    "\n",
    "\n",
    "class B(A):\n",
    "    pass\n",
    "\n",
    "\n",
    "class C(A, name=\"MaybeA\"):\n",
    "    pass\n",
    "\n",
    "\n",
    "print(A.children)\n"
   ]
  }
 ],
 "metadata": {},
 "nbformat": 4,
 "nbformat_minor": 2
}

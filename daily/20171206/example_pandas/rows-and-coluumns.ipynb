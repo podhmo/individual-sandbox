{
 "cells": [
  {
   "cell_type": "code",
   "execution_count": 1,
   "metadata": {
    "collapsed": true
   },
   "outputs": [],
   "source": [
    "import pandas as pd\n",
    "import numpy as np"
   ]
  },
  {
   "cell_type": "code",
   "execution_count": 2,
   "metadata": {
    "collapsed": true
   },
   "outputs": [],
   "source": [
    "def merge0(series, start_time, end_time):\n",
    "    summary_series = series.groupby(level=0).sum()\n",
    "    merged = pd.Series([], index=[])\n",
    "    indices = summary_series.index\n",
    "    for d in pd.date_range(start_time, end_time):\n",
    "        if d in indices:\n",
    "            merged = merged.append(pd.Series([summary_series[d]], index=[d]))\n",
    "        else:\n",
    "            merged = merged.append(pd.Series([0], index=[d]))\n",
    "    return merged.dropna().sort_index(ascending=True)\n",
    "\n",
    "\n",
    "def merge1(series, start_time, end_time):\n",
    "    summary_series = series.groupby(level=0).sum().sort_index(ascending=True)\n",
    "    indices = pd.date_range(start_time, end_time)\n",
    "    base_series = pd.Series(np.zeros(len(indices)), index=indices)\n",
    "    merged = base_series + (summary_series[indices[0]:indices[-1]])\n",
    "    return merged.fillna(0).astype(\"int64\")\n"
   ]
  },
  {
   "cell_type": "code",
   "execution_count": 3,
   "metadata": {},
   "outputs": [
    {
     "data": {
      "text/plain": [
       "DatetimeIndex(['2017-11-20', '2017-11-21', '2017-11-22', '2017-11-23',\n",
       "               '2017-11-24', '2017-11-25', '2017-11-26', '2017-11-27',\n",
       "               '2017-11-28', '2017-11-29', '2017-11-30', '2017-12-01',\n",
       "               '2017-12-02', '2017-12-03', '2017-12-04', '2017-12-05',\n",
       "               '2017-12-06', '2017-12-07', '2017-12-08', '2017-12-09',\n",
       "               '2017-12-10', '2017-12-11', '2017-12-12', '2017-12-13',\n",
       "               '2017-12-14', '2017-12-15', '2017-12-16', '2017-12-17',\n",
       "               '2017-12-18', '2017-12-19', '2017-12-20', '2017-12-21',\n",
       "               '2017-12-22', '2017-12-23', '2017-12-24', '2017-12-25',\n",
       "               '2017-12-26', '2017-12-27', '2017-12-28', '2017-12-29',\n",
       "               '2017-12-30', '2017-12-31', '2018-01-01', '2018-01-02',\n",
       "               '2018-01-03', '2018-01-04', '2018-01-05', '2018-01-06',\n",
       "               '2018-01-07', '2018-01-08', '2018-01-09', '2018-01-10'],\n",
       "              dtype='datetime64[ns]', freq='D')"
      ]
     },
     "execution_count": 3,
     "metadata": {},
     "output_type": "execute_result"
    }
   ],
   "source": [
    "pd.date_range(\"2017-11-20\", \"2018-01-10\")"
   ]
  },
  {
   "cell_type": "code",
   "execution_count": 4,
   "metadata": {},
   "outputs": [],
   "source": [
    "ranges = pd.date_range(\"2017-11-20\", \"2018-01-10\")\n",
    "series = pd.Series(np.arange(len(ranges)), index=ranges)\n",
    "series = series.drop(ranges[::3])\n",
    "series = series.append(series)"
   ]
  },
  {
   "cell_type": "code",
   "execution_count": 5,
   "metadata": {},
   "outputs": [],
   "source": [
    "from pandas.util.testing import assert_series_equal\n",
    "assert_series_equal(\n",
    "    merge0(series, \"2017-12-01\", \"2017-12-31\"), merge1(series, \"2017-12-01\", \"2017-12-31\")\n",
    ")"
   ]
  },
  {
   "cell_type": "code",
   "execution_count": 6,
   "metadata": {},
   "outputs": [
    {
     "data": {
      "text/plain": [
       "2017-12-01    22\n",
       "2017-12-02     0\n",
       "2017-12-03    26\n",
       "2017-12-04    28\n",
       "2017-12-05     0\n",
       "2017-12-06    32\n",
       "2017-12-07    34\n",
       "2017-12-08     0\n",
       "2017-12-09    38\n",
       "2017-12-10    40\n",
       "2017-12-11     0\n",
       "2017-12-12    44\n",
       "2017-12-13    46\n",
       "2017-12-14     0\n",
       "2017-12-15    50\n",
       "2017-12-16    52\n",
       "2017-12-17     0\n",
       "2017-12-18    56\n",
       "2017-12-19    58\n",
       "2017-12-20     0\n",
       "2017-12-21    62\n",
       "2017-12-22    64\n",
       "2017-12-23     0\n",
       "2017-12-24    68\n",
       "2017-12-25    70\n",
       "2017-12-26     0\n",
       "2017-12-27    74\n",
       "2017-12-28    76\n",
       "2017-12-29     0\n",
       "2017-12-30    80\n",
       "2017-12-31    82\n",
       "dtype: int64"
      ]
     },
     "execution_count": 6,
     "metadata": {},
     "output_type": "execute_result"
    }
   ],
   "source": [
    "merge0(series, \"2017-12-01\", \"2017-12-31\")"
   ]
  },
  {
   "cell_type": "code",
   "execution_count": 7,
   "metadata": {},
   "outputs": [
    {
     "name": "stdout",
     "output_type": "stream",
     "text": [
      "11.2 ms ± 967 µs per loop (mean ± std. dev. of 7 runs, 10 loops each)\n"
     ]
    }
   ],
   "source": [
    "%timeit -n10 merge0(series, \"2017-12-01\", \"2017-12-31\")"
   ]
  },
  {
   "cell_type": "code",
   "execution_count": 25,
   "metadata": {},
   "outputs": [
    {
     "name": "stdout",
     "output_type": "stream",
     "text": [
      "1.64 ms ± 402 µs per loop (mean ± std. dev. of 7 runs, 10 loops each)\n"
     ]
    }
   ],
   "source": [
    "%timeit -n10 merge1(series, \"2017-12-01\", \"2017-12-31\")"
   ]
  },
  {
   "cell_type": "code",
   "execution_count": 26,
   "metadata": {},
   "outputs": [
    {
     "name": "stdout",
     "output_type": "stream",
     "text": [
      "The line_profiler extension is already loaded. To reload it, use:\n",
      "  %reload_ext line_profiler\n"
     ]
    }
   ],
   "source": [
    "%load_ext line_profiler"
   ]
  },
  {
   "cell_type": "code",
   "execution_count": 29,
   "metadata": {
    "collapsed": true
   },
   "outputs": [],
   "source": [
    "%lprun -f merge0 merge0(series, \"2017-12-01\", \"2017-12-31\")"
   ]
  },
  {
   "cell_type": "code",
   "execution_count": 16,
   "metadata": {},
   "outputs": [
    {
     "name": "stdout",
     "output_type": "stream",
     "text": [
      "605 µs ± 125 µs per loop (mean ± std. dev. of 7 runs, 100 loops each)\n"
     ]
    }
   ],
   "source": [
    "%timeit -n100 series.groupby(series.index).sum()"
   ]
  },
  {
   "cell_type": "code",
   "execution_count": 18,
   "metadata": {},
   "outputs": [
    {
     "name": "stdout",
     "output_type": "stream",
     "text": [
      "627 µs ± 150 µs per loop (mean ± std. dev. of 7 runs, 100 loops each)\n"
     ]
    }
   ],
   "source": [
    "%timeit -n100 series.groupby(level=0).sum()"
   ]
  },
  {
   "cell_type": "code",
   "execution_count": 20,
   "metadata": {},
   "outputs": [
    {
     "data": {
      "text/plain": [
       "True"
      ]
     },
     "execution_count": 20,
     "metadata": {},
     "output_type": "execute_result"
    }
   ],
   "source": [
    "df =  series.groupby(level=0).sum()\n",
    "df.index.is_unique"
   ]
  },
  {
   "cell_type": "code",
   "execution_count": 22,
   "metadata": {},
   "outputs": [
    {
     "data": {
      "text/plain": [
       "True"
      ]
     },
     "execution_count": 22,
     "metadata": {},
     "output_type": "execute_result"
    }
   ],
   "source": [
    "df.index.is_monotonic_increasing"
   ]
  }
 ],
 "metadata": {
  "kernelspec": {
   "display_name": "Python 3",
   "language": "python",
   "name": "python3"
  },
  "language_info": {
   "codemirror_mode": {
    "name": "ipython",
    "version": 3
   },
   "file_extension": ".py",
   "mimetype": "text/x-python",
   "name": "python",
   "nbconvert_exporter": "python",
   "pygments_lexer": "ipython3",
   "version": "3.6.2"
  }
 },
 "nbformat": 4,
 "nbformat_minor": 2
}

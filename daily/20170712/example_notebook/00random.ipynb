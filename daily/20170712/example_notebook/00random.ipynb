{
  "cells": [
    {
      "cell_type": "code",
      "execution_count": 1,
      "source": [
        "immport random\n",
        "random.random() + 10"
      ]
    }
  ]
}
